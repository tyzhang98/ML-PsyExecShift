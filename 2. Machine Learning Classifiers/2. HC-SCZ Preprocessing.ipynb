{
 "cells": [
  {
   "cell_type": "markdown",
   "id": "7c6aff88-f99d-4d5c-b5e7-c4fb19655694",
   "metadata": {},
   "source": [
    "## 读取数据"
   ]
  },
  {
   "cell_type": "code",
   "execution_count": 1,
   "id": "ecf982db-a2ac-451b-b50e-ce3d8057f985",
   "metadata": {},
   "outputs": [
    {
     "name": "stdout",
     "output_type": "stream",
     "text": [
      "   stroop_incongruent_rt  stroop_interference_effect_rt  nogo_acc  \\\n",
      "0                 741.96                        -741.96      0.91   \n",
      "1                 580.06                        -579.06      0.78   \n",
      "2                 473.47                        -471.47      0.81   \n",
      "3                 618.25                        -615.25      0.87   \n",
      "4                 664.84                        -660.84      0.68   \n",
      "\n",
      "   switch_cost  rm_1750_acc  rm_750_acc  dsbt_span  Group  \\\n",
      "0   164.056328     0.541667    0.333333          4      1   \n",
      "1   195.132222     1.000000    0.958333          7      1   \n",
      "2   113.035294     0.291667    0.125000          3      1   \n",
      "3   249.326376     0.583333    0.083333          5      1   \n",
      "4    98.959132     0.541667    0.166667          4      1   \n",
      "\n",
      "   Dose Equivalent to Olanzapine  PANSS-N  PANSS-P  PANSS-GP  PANSS-T  \n",
      "0                      10.000000       11       17        30       58  \n",
      "1                      10.443864       11       25        29       65  \n",
      "2                      15.000000       12       16        29       57  \n",
      "3                      14.285714        7       17        26       50  \n",
      "4                      10.000000       25       24        46       95  \n",
      "标签人数统计:\n",
      "1    195\n",
      "0    169\n",
      "Name: Group, dtype: int64\n",
      "数据预处理完成！\n"
     ]
    }
   ],
   "source": [
    "import warnings\n",
    "import pandas as pd\n",
    "import pickle\n",
    "\n",
    "# 忽略警告信息\n",
    "warnings.filterwarnings(\"ignore\")\n",
    "\n",
    "# 加载数据\n",
    "data = pd.read_excel('data-A.xlsx')\n",
    "\n",
    "# 删除不必要的列\n",
    "columns_to_drop = ['ID']\n",
    "data.drop(columns=columns_to_drop, inplace=True)\n",
    "\n",
    "# 定义需要填充缺失值的列\n",
    "exclusive = ['Dose Equivalent to Olanzapine', 'PANSS-N', 'PANSS-P', 'PANSS-GP','PANSS-T']\n",
    "\n",
    "# 将指定列的缺失值填充为-1\n",
    "data[exclusive] = data[exclusive].fillna(-1)\n",
    "\n",
    "# 显示处理后的数据前几行\n",
    "print(data.head())\n",
    "\n",
    "# 准备数据以进行保存\n",
    "df = data\n",
    "cols = [i for i in df.columns if i not in ['Group']]\n",
    "X = df[cols]\n",
    "y = df['Group']\n",
    "\n",
    "# 打印标签人数\n",
    "print(\"标签人数统计:\")\n",
    "print(y.value_counts())\n",
    "\n",
    "# 将变量保存到pickle文件\n",
    "with open('data/variables-huafen.pkl', 'wb') as file:\n",
    "    pickle.dump((X, y), file)\n",
    "\n",
    "# 将数据保存为Excel文件\n",
    "X.to_excel('table/X_processed.xlsx', index=False)\n",
    "y.to_excel('table/y_processed.xlsx', index=False)\n",
    "\n",
    "print(\"数据预处理完成！\")"
   ]
  }
 ],
 "metadata": {
  "kernelspec": {
   "display_name": "venv2_ml",
   "language": "python",
   "name": "python3"
  },
  "language_info": {
   "codemirror_mode": {
    "name": "ipython",
    "version": 3
   },
   "file_extension": ".py",
   "mimetype": "text/x-python",
   "name": "python",
   "nbconvert_exporter": "python",
   "pygments_lexer": "ipython3",
   "version": "3.10.11"
  }
 },
 "nbformat": 4,
 "nbformat_minor": 5
}
